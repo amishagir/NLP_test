{
  "nbformat": 4,
  "nbformat_minor": 0,
  "metadata": {
    "colab": {
      "name": "task 2.ipynb",
      "provenance": [],
      "authorship_tag": "ABX9TyPaJQQetAiOrPdybgiGd2Nk",
      "include_colab_link": true
    },
    "kernelspec": {
      "name": "python3",
      "display_name": "Python 3"
    },
    "language_info": {
      "name": "python"
    }
  },
  "cells": [
    {
      "cell_type": "markdown",
      "metadata": {
        "id": "view-in-github",
        "colab_type": "text"
      },
      "source": [
        "<a href=\"https://colab.research.google.com/github/amishagir/NLP_test/blob/main/task_2.ipynb\" target=\"_parent\"><img src=\"https://colab.research.google.com/assets/colab-badge.svg\" alt=\"Open In Colab\"/></a>"
      ]
    },
    {
      "cell_type": "code",
      "source": [
        "pip install rasa_nlu"
      ],
      "metadata": {
        "colab": {
          "base_uri": "https://localhost:8080/"
        },
        "id": "1eSsso_ewAsF",
        "outputId": "413633e3-117b-4f2f-ad06-8b838eb25d93"
      },
      "execution_count": 17,
      "outputs": [
        {
          "output_type": "stream",
          "name": "stdout",
          "text": [
            "Looking in indexes: https://pypi.org/simple, https://us-python.pkg.dev/colab-wheels/public/simple/\n",
            "Requirement already satisfied: rasa_nlu in /usr/local/lib/python3.7/dist-packages (0.15.1)\n",
            "Requirement already satisfied: gevent~=1.3 in /usr/local/lib/python3.7/dist-packages (from rasa_nlu) (1.5.0)\n",
            "Requirement already satisfied: matplotlib~=2.2 in /usr/local/lib/python3.7/dist-packages (from rasa_nlu) (2.2.5)\n",
            "Requirement already satisfied: numpy>=1.16 in /usr/local/lib/python3.7/dist-packages (from rasa_nlu) (1.21.6)\n",
            "Requirement already satisfied: coloredlogs~=10.0 in /usr/local/lib/python3.7/dist-packages (from rasa_nlu) (10.0)\n",
            "Requirement already satisfied: ruamel.yaml~=0.15.7 in /usr/local/lib/python3.7/dist-packages (from rasa_nlu) (0.15.100)\n",
            "Requirement already satisfied: boto3~=1.9 in /usr/local/lib/python3.7/dist-packages (from rasa_nlu) (1.24.15)\n",
            "Requirement already satisfied: packaging~=18.0 in /usr/local/lib/python3.7/dist-packages (from rasa_nlu) (18.0)\n",
            "Requirement already satisfied: simplejson~=3.13 in /usr/local/lib/python3.7/dist-packages (from rasa_nlu) (3.17.6)\n",
            "Requirement already satisfied: klein~=17.10 in /usr/local/lib/python3.7/dist-packages (from rasa_nlu) (17.10.0)\n",
            "Requirement already satisfied: jsonschema~=2.6 in /usr/local/lib/python3.7/dist-packages (from rasa_nlu) (2.6.0)\n",
            "Requirement already satisfied: scikit-learn~=0.20.2 in /usr/local/lib/python3.7/dist-packages (from rasa_nlu) (0.20.4)\n",
            "Requirement already satisfied: requests~=2.20 in /usr/local/lib/python3.7/dist-packages (from rasa_nlu) (2.23.0)\n",
            "Requirement already satisfied: typing~=3.6 in /usr/local/lib/python3.7/dist-packages (from rasa_nlu) (3.7.4.3)\n",
            "Requirement already satisfied: cloudpickle~=0.6.1 in /usr/local/lib/python3.7/dist-packages (from rasa_nlu) (0.6.1)\n",
            "Requirement already satisfied: tqdm~=4.19 in /usr/local/lib/python3.7/dist-packages (from rasa_nlu) (4.64.0)\n",
            "Requirement already satisfied: future~=0.17.1 in /usr/local/lib/python3.7/dist-packages (from rasa_nlu) (0.17.1)\n",
            "Requirement already satisfied: s3transfer<0.7.0,>=0.6.0 in /usr/local/lib/python3.7/dist-packages (from boto3~=1.9->rasa_nlu) (0.6.0)\n",
            "Requirement already satisfied: jmespath<2.0.0,>=0.7.1 in /usr/local/lib/python3.7/dist-packages (from boto3~=1.9->rasa_nlu) (1.0.1)\n",
            "Requirement already satisfied: botocore<1.28.0,>=1.27.15 in /usr/local/lib/python3.7/dist-packages (from boto3~=1.9->rasa_nlu) (1.27.15)\n",
            "Requirement already satisfied: python-dateutil<3.0.0,>=2.1 in /usr/local/lib/python3.7/dist-packages (from botocore<1.28.0,>=1.27.15->boto3~=1.9->rasa_nlu) (2.8.2)\n",
            "Requirement already satisfied: urllib3<1.27,>=1.25.4 in /usr/local/lib/python3.7/dist-packages (from botocore<1.28.0,>=1.27.15->boto3~=1.9->rasa_nlu) (1.25.11)\n",
            "Requirement already satisfied: humanfriendly>=4.7 in /usr/local/lib/python3.7/dist-packages (from coloredlogs~=10.0->rasa_nlu) (10.0)\n",
            "Requirement already satisfied: greenlet>=0.4.14 in /usr/local/lib/python3.7/dist-packages (from gevent~=1.3->rasa_nlu) (1.1.2)\n",
            "Requirement already satisfied: incremental in /usr/local/lib/python3.7/dist-packages (from klein~=17.10->rasa_nlu) (21.3.0)\n",
            "Requirement already satisfied: six in /usr/local/lib/python3.7/dist-packages (from klein~=17.10->rasa_nlu) (1.15.0)\n",
            "Requirement already satisfied: Twisted>=15.5 in /usr/local/lib/python3.7/dist-packages (from klein~=17.10->rasa_nlu) (22.4.0)\n",
            "Requirement already satisfied: werkzeug in /usr/local/lib/python3.7/dist-packages (from klein~=17.10->rasa_nlu) (1.0.1)\n",
            "Requirement already satisfied: pyparsing!=2.0.4,!=2.1.2,!=2.1.6,>=2.0.1 in /usr/local/lib/python3.7/dist-packages (from matplotlib~=2.2->rasa_nlu) (3.0.9)\n",
            "Requirement already satisfied: kiwisolver>=1.0.1 in /usr/local/lib/python3.7/dist-packages (from matplotlib~=2.2->rasa_nlu) (1.4.3)\n",
            "Requirement already satisfied: cycler>=0.10 in /usr/local/lib/python3.7/dist-packages (from matplotlib~=2.2->rasa_nlu) (0.11.0)\n",
            "Requirement already satisfied: pytz in /usr/local/lib/python3.7/dist-packages (from matplotlib~=2.2->rasa_nlu) (2022.1)\n",
            "Requirement already satisfied: typing-extensions in /usr/local/lib/python3.7/dist-packages (from kiwisolver>=1.0.1->matplotlib~=2.2->rasa_nlu) (4.1.1)\n",
            "Requirement already satisfied: certifi>=2017.4.17 in /usr/local/lib/python3.7/dist-packages (from requests~=2.20->rasa_nlu) (2022.6.15)\n",
            "Requirement already satisfied: idna<3,>=2.5 in /usr/local/lib/python3.7/dist-packages (from requests~=2.20->rasa_nlu) (2.10)\n",
            "Requirement already satisfied: chardet<4,>=3.0.2 in /usr/local/lib/python3.7/dist-packages (from requests~=2.20->rasa_nlu) (3.0.4)\n",
            "Requirement already satisfied: scipy>=0.13.3 in /usr/local/lib/python3.7/dist-packages (from scikit-learn~=0.20.2->rasa_nlu) (1.4.1)\n",
            "Requirement already satisfied: hyperlink>=17.1.1 in /usr/local/lib/python3.7/dist-packages (from Twisted>=15.5->klein~=17.10->rasa_nlu) (21.0.0)\n",
            "Requirement already satisfied: attrs>=19.2.0 in /usr/local/lib/python3.7/dist-packages (from Twisted>=15.5->klein~=17.10->rasa_nlu) (21.4.0)\n",
            "Requirement already satisfied: constantly>=15.1 in /usr/local/lib/python3.7/dist-packages (from Twisted>=15.5->klein~=17.10->rasa_nlu) (15.1.0)\n",
            "Requirement already satisfied: zope.interface>=4.4.2 in /usr/local/lib/python3.7/dist-packages (from Twisted>=15.5->klein~=17.10->rasa_nlu) (5.4.0)\n",
            "Requirement already satisfied: Automat>=0.8.0 in /usr/local/lib/python3.7/dist-packages (from Twisted>=15.5->klein~=17.10->rasa_nlu) (20.2.0)\n",
            "Requirement already satisfied: setuptools in /usr/local/lib/python3.7/dist-packages (from zope.interface>=4.4.2->Twisted>=15.5->klein~=17.10->rasa_nlu) (57.4.0)\n"
          ]
        }
      ]
    },
    {
      "cell_type": "code",
      "source": [
        "python -m rasa_nlu server"
      ],
      "metadata": {
        "colab": {
          "base_uri": "https://localhost:8080/",
          "height": 130
        },
        "id": "iV22dv1nCWNE",
        "outputId": "ca6d2bb2-aee3-4c21-f849-6fcd3d0f9b6a"
      },
      "execution_count": 40,
      "outputs": [
        {
          "output_type": "error",
          "ename": "SyntaxError",
          "evalue": "ignored",
          "traceback": [
            "\u001b[0;36m  File \u001b[0;32m\"<ipython-input-40-8261a5fbe8b7>\"\u001b[0;36m, line \u001b[0;32m1\u001b[0m\n\u001b[0;31m    python -m rasa_nlu server\u001b[0m\n\u001b[0m                     ^\u001b[0m\n\u001b[0;31mSyntaxError\u001b[0m\u001b[0;31m:\u001b[0m invalid syntax\n"
          ]
        }
      ]
    },
    {
      "cell_type": "markdown",
      "source": [
        "I am not able to install this rasa![rasa.PNG](data:image/png;base64,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)"
      ],
      "metadata": {
        "id": "G9E1Dcx2HDNR"
      }
    },
    {
      "cell_type": "code",
      "source": [
        "pip install rasa_nlu[spacy]"
      ],
      "metadata": {
        "colab": {
          "base_uri": "https://localhost:8080/"
        },
        "id": "Z1xMn8DN7poQ",
        "outputId": "dc2f7c92-2e44-45cd-b5d8-fe7d44a25e7e"
      },
      "execution_count": 33,
      "outputs": [
        {
          "output_type": "stream",
          "name": "stdout",
          "text": [
            "Looking in indexes: https://pypi.org/simple, https://us-python.pkg.dev/colab-wheels/public/simple/\n",
            "Requirement already satisfied: rasa_nlu[spacy] in /usr/local/lib/python3.7/dist-packages (0.15.1)\n",
            "Requirement already satisfied: requests~=2.20 in /usr/local/lib/python3.7/dist-packages (from rasa_nlu[spacy]) (2.23.0)\n",
            "Requirement already satisfied: jsonschema~=2.6 in /usr/local/lib/python3.7/dist-packages (from rasa_nlu[spacy]) (2.6.0)\n",
            "Requirement already satisfied: numpy>=1.16 in /usr/local/lib/python3.7/dist-packages (from rasa_nlu[spacy]) (1.21.6)\n",
            "Requirement already satisfied: scikit-learn~=0.20.2 in /usr/local/lib/python3.7/dist-packages (from rasa_nlu[spacy]) (0.20.4)\n",
            "Requirement already satisfied: packaging~=18.0 in /usr/local/lib/python3.7/dist-packages (from rasa_nlu[spacy]) (18.0)\n",
            "Requirement already satisfied: cloudpickle~=0.6.1 in /usr/local/lib/python3.7/dist-packages (from rasa_nlu[spacy]) (0.6.1)\n",
            "Requirement already satisfied: ruamel.yaml~=0.15.7 in /usr/local/lib/python3.7/dist-packages (from rasa_nlu[spacy]) (0.15.100)\n",
            "Requirement already satisfied: klein~=17.10 in /usr/local/lib/python3.7/dist-packages (from rasa_nlu[spacy]) (17.10.0)\n",
            "Requirement already satisfied: tqdm~=4.19 in /usr/local/lib/python3.7/dist-packages (from rasa_nlu[spacy]) (4.64.0)\n",
            "Requirement already satisfied: simplejson~=3.13 in /usr/local/lib/python3.7/dist-packages (from rasa_nlu[spacy]) (3.17.6)\n",
            "Requirement already satisfied: gevent~=1.3 in /usr/local/lib/python3.7/dist-packages (from rasa_nlu[spacy]) (1.5.0)\n",
            "Requirement already satisfied: boto3~=1.9 in /usr/local/lib/python3.7/dist-packages (from rasa_nlu[spacy]) (1.24.15)\n",
            "Requirement already satisfied: typing~=3.6 in /usr/local/lib/python3.7/dist-packages (from rasa_nlu[spacy]) (3.7.4.3)\n",
            "Requirement already satisfied: future~=0.17.1 in /usr/local/lib/python3.7/dist-packages (from rasa_nlu[spacy]) (0.17.1)\n",
            "Requirement already satisfied: coloredlogs~=10.0 in /usr/local/lib/python3.7/dist-packages (from rasa_nlu[spacy]) (10.0)\n",
            "Requirement already satisfied: matplotlib~=2.2 in /usr/local/lib/python3.7/dist-packages (from rasa_nlu[spacy]) (2.2.5)\n",
            "Requirement already satisfied: scipy~=1.2 in /usr/local/lib/python3.7/dist-packages (from rasa_nlu[spacy]) (1.4.1)\n",
            "Requirement already satisfied: sklearn-crfsuite~=0.3.6 in /usr/local/lib/python3.7/dist-packages (from rasa_nlu[spacy]) (0.3.6)\n",
            "Requirement already satisfied: spacy<=2.0.18,>2.0 in /usr/local/lib/python3.7/dist-packages (from rasa_nlu[spacy]) (2.0.18)\n",
            "Requirement already satisfied: jmespath<2.0.0,>=0.7.1 in /usr/local/lib/python3.7/dist-packages (from boto3~=1.9->rasa_nlu[spacy]) (1.0.1)\n",
            "Requirement already satisfied: botocore<1.28.0,>=1.27.15 in /usr/local/lib/python3.7/dist-packages (from boto3~=1.9->rasa_nlu[spacy]) (1.27.15)\n",
            "Requirement already satisfied: s3transfer<0.7.0,>=0.6.0 in /usr/local/lib/python3.7/dist-packages (from boto3~=1.9->rasa_nlu[spacy]) (0.6.0)\n",
            "Requirement already satisfied: urllib3<1.27,>=1.25.4 in /usr/local/lib/python3.7/dist-packages (from botocore<1.28.0,>=1.27.15->boto3~=1.9->rasa_nlu[spacy]) (1.25.11)\n",
            "Requirement already satisfied: python-dateutil<3.0.0,>=2.1 in /usr/local/lib/python3.7/dist-packages (from botocore<1.28.0,>=1.27.15->boto3~=1.9->rasa_nlu[spacy]) (2.8.2)\n",
            "Requirement already satisfied: humanfriendly>=4.7 in /usr/local/lib/python3.7/dist-packages (from coloredlogs~=10.0->rasa_nlu[spacy]) (10.0)\n",
            "Requirement already satisfied: greenlet>=0.4.14 in /usr/local/lib/python3.7/dist-packages (from gevent~=1.3->rasa_nlu[spacy]) (1.1.2)\n",
            "Requirement already satisfied: werkzeug in /usr/local/lib/python3.7/dist-packages (from klein~=17.10->rasa_nlu[spacy]) (1.0.1)\n",
            "Requirement already satisfied: incremental in /usr/local/lib/python3.7/dist-packages (from klein~=17.10->rasa_nlu[spacy]) (21.3.0)\n",
            "Requirement already satisfied: six in /usr/local/lib/python3.7/dist-packages (from klein~=17.10->rasa_nlu[spacy]) (1.15.0)\n",
            "Requirement already satisfied: Twisted>=15.5 in /usr/local/lib/python3.7/dist-packages (from klein~=17.10->rasa_nlu[spacy]) (22.4.0)\n",
            "Requirement already satisfied: pytz in /usr/local/lib/python3.7/dist-packages (from matplotlib~=2.2->rasa_nlu[spacy]) (2022.1)\n",
            "Requirement already satisfied: pyparsing!=2.0.4,!=2.1.2,!=2.1.6,>=2.0.1 in /usr/local/lib/python3.7/dist-packages (from matplotlib~=2.2->rasa_nlu[spacy]) (3.0.9)\n",
            "Requirement already satisfied: kiwisolver>=1.0.1 in /usr/local/lib/python3.7/dist-packages (from matplotlib~=2.2->rasa_nlu[spacy]) (1.4.3)\n",
            "Requirement already satisfied: cycler>=0.10 in /usr/local/lib/python3.7/dist-packages (from matplotlib~=2.2->rasa_nlu[spacy]) (0.11.0)\n",
            "Requirement already satisfied: typing-extensions in /usr/local/lib/python3.7/dist-packages (from kiwisolver>=1.0.1->matplotlib~=2.2->rasa_nlu[spacy]) (4.1.1)\n",
            "Requirement already satisfied: chardet<4,>=3.0.2 in /usr/local/lib/python3.7/dist-packages (from requests~=2.20->rasa_nlu[spacy]) (3.0.4)\n",
            "Requirement already satisfied: idna<3,>=2.5 in /usr/local/lib/python3.7/dist-packages (from requests~=2.20->rasa_nlu[spacy]) (2.10)\n",
            "Requirement already satisfied: certifi>=2017.4.17 in /usr/local/lib/python3.7/dist-packages (from requests~=2.20->rasa_nlu[spacy]) (2022.6.15)\n",
            "Requirement already satisfied: python-crfsuite>=0.8.3 in /usr/local/lib/python3.7/dist-packages (from sklearn-crfsuite~=0.3.6->rasa_nlu[spacy]) (0.9.8)\n",
            "Requirement already satisfied: tabulate in /usr/local/lib/python3.7/dist-packages (from sklearn-crfsuite~=0.3.6->rasa_nlu[spacy]) (0.8.9)\n",
            "Requirement already satisfied: murmurhash<1.1.0,>=0.28.0 in /usr/local/lib/python3.7/dist-packages (from spacy<=2.0.18,>2.0->rasa_nlu[spacy]) (1.0.7)\n",
            "Requirement already satisfied: preshed<2.1.0,>=2.0.1 in /usr/local/lib/python3.7/dist-packages (from spacy<=2.0.18,>2.0->rasa_nlu[spacy]) (2.0.1)\n",
            "Requirement already satisfied: thinc<6.13.0,>=6.12.1 in /usr/local/lib/python3.7/dist-packages (from spacy<=2.0.18,>2.0->rasa_nlu[spacy]) (6.12.1)\n",
            "Requirement already satisfied: plac<1.0.0,>=0.9.6 in /usr/local/lib/python3.7/dist-packages (from spacy<=2.0.18,>2.0->rasa_nlu[spacy]) (0.9.6)\n",
            "Requirement already satisfied: cymem<2.1.0,>=2.0.2 in /usr/local/lib/python3.7/dist-packages (from spacy<=2.0.18,>2.0->rasa_nlu[spacy]) (2.0.6)\n",
            "Requirement already satisfied: dill<0.3,>=0.2 in /usr/local/lib/python3.7/dist-packages (from spacy<=2.0.18,>2.0->rasa_nlu[spacy]) (0.2.9)\n",
            "Requirement already satisfied: regex==2018.01.10 in /usr/local/lib/python3.7/dist-packages (from spacy<=2.0.18,>2.0->rasa_nlu[spacy]) (2018.1.10)\n",
            "Requirement already satisfied: ujson>=1.35 in /usr/local/lib/python3.7/dist-packages (from spacy<=2.0.18,>2.0->rasa_nlu[spacy]) (5.3.0)\n",
            "Requirement already satisfied: msgpack<0.6.0,>=0.5.6 in /usr/local/lib/python3.7/dist-packages (from thinc<6.13.0,>=6.12.1->spacy<=2.0.18,>2.0->rasa_nlu[spacy]) (0.5.6)\n",
            "Requirement already satisfied: cytoolz<0.10,>=0.9.0 in /usr/local/lib/python3.7/dist-packages (from thinc<6.13.0,>=6.12.1->spacy<=2.0.18,>2.0->rasa_nlu[spacy]) (0.9.0.1)\n",
            "Requirement already satisfied: msgpack-numpy<0.4.4 in /usr/local/lib/python3.7/dist-packages (from thinc<6.13.0,>=6.12.1->spacy<=2.0.18,>2.0->rasa_nlu[spacy]) (0.4.3.2)\n",
            "Requirement already satisfied: wrapt<1.11.0,>=1.10.0 in /usr/local/lib/python3.7/dist-packages (from thinc<6.13.0,>=6.12.1->spacy<=2.0.18,>2.0->rasa_nlu[spacy]) (1.10.11)\n",
            "Requirement already satisfied: toolz>=0.8.0 in /usr/local/lib/python3.7/dist-packages (from cytoolz<0.10,>=0.9.0->thinc<6.13.0,>=6.12.1->spacy<=2.0.18,>2.0->rasa_nlu[spacy]) (0.11.2)\n",
            "Requirement already satisfied: Automat>=0.8.0 in /usr/local/lib/python3.7/dist-packages (from Twisted>=15.5->klein~=17.10->rasa_nlu[spacy]) (20.2.0)\n",
            "Requirement already satisfied: hyperlink>=17.1.1 in /usr/local/lib/python3.7/dist-packages (from Twisted>=15.5->klein~=17.10->rasa_nlu[spacy]) (21.0.0)\n",
            "Requirement already satisfied: constantly>=15.1 in /usr/local/lib/python3.7/dist-packages (from Twisted>=15.5->klein~=17.10->rasa_nlu[spacy]) (15.1.0)\n",
            "Requirement already satisfied: zope.interface>=4.4.2 in /usr/local/lib/python3.7/dist-packages (from Twisted>=15.5->klein~=17.10->rasa_nlu[spacy]) (5.4.0)\n",
            "Requirement already satisfied: attrs>=19.2.0 in /usr/local/lib/python3.7/dist-packages (from Twisted>=15.5->klein~=17.10->rasa_nlu[spacy]) (21.4.0)\n",
            "Requirement already satisfied: setuptools in /usr/local/lib/python3.7/dist-packages (from zope.interface>=4.4.2->Twisted>=15.5->klein~=17.10->rasa_nlu[spacy]) (57.4.0)\n"
          ]
        }
      ]
    },
    {
      "cell_type": "code",
      "source": [
        "pip install service_identity"
      ],
      "metadata": {
        "colab": {
          "base_uri": "https://localhost:8080/"
        },
        "id": "CCqEjwc8Bj28",
        "outputId": "23b983b2-28fe-44f4-ff8e-88806c270649"
      },
      "execution_count": 38,
      "outputs": [
        {
          "output_type": "stream",
          "name": "stdout",
          "text": [
            "Looking in indexes: https://pypi.org/simple, https://us-python.pkg.dev/colab-wheels/public/simple/\n",
            "Collecting service_identity\n",
            "  Downloading service_identity-21.1.0-py2.py3-none-any.whl (12 kB)\n",
            "Collecting cryptography\n",
            "  Downloading cryptography-37.0.2-cp36-abi3-manylinux_2_24_x86_64.whl (4.0 MB)\n",
            "\u001b[K     |████████████████████████████████| 4.0 MB 4.2 MB/s \n",
            "\u001b[?25hRequirement already satisfied: six in /usr/local/lib/python3.7/dist-packages (from service_identity) (1.15.0)\n",
            "Requirement already satisfied: pyasn1-modules in /usr/local/lib/python3.7/dist-packages (from service_identity) (0.2.8)\n",
            "Requirement already satisfied: attrs>=19.1.0 in /usr/local/lib/python3.7/dist-packages (from service_identity) (21.4.0)\n",
            "Requirement already satisfied: pyasn1 in /usr/local/lib/python3.7/dist-packages (from service_identity) (0.4.8)\n",
            "Requirement already satisfied: cffi>=1.12 in /usr/local/lib/python3.7/dist-packages (from cryptography->service_identity) (1.15.0)\n",
            "Requirement already satisfied: pycparser in /usr/local/lib/python3.7/dist-packages (from cffi>=1.12->cryptography->service_identity) (2.21)\n",
            "Installing collected packages: cryptography, service-identity\n",
            "Successfully installed cryptography-37.0.2 service-identity-21.1.0\n"
          ]
        }
      ]
    },
    {
      "cell_type": "code",
      "source": [
        "# Load the Packages\n",
        "from rasa_nlu.training_data  import load_data\n",
        "from rasa_nlu.config import RasaNLUModelConfig\n",
        "from rasa_nlu.model import Trainer\n",
        "from rasa_nlu import config"
      ],
      "metadata": {
        "id": "qhttpeX0wOpV"
      },
      "execution_count": 25,
      "outputs": []
    },
    {
      "cell_type": "code",
      "source": [
        "# Load Data \n",
        "!cat demo-rasaa.json"
      ],
      "metadata": {
        "colab": {
          "base_uri": "https://localhost:8080/"
        },
        "id": "nK6zbZWMw8JD",
        "outputId": "0b8f75fc-37cf-4c16-c533-a959063fa6f1"
      },
      "execution_count": 31,
      "outputs": [
        {
          "output_type": "stream",
          "name": "stdout",
          "text": [
            "{\n",
            "  \"rasa_nlu_data\": {\n",
            "    \"regex_features\": [\n",
            "      {\n",
            "        \"name\": \"zipcode\",\n",
            "        \"pattern\": \"[0-9]{5}\"\n",
            "      },\n",
            "      {\n",
            "        \"name\": \"greet\",\n",
            "        \"pattern\": \"hey[^\\\\s]*\"\n",
            "      }\n",
            "    ],\n",
            "    \"entity_synonyms\": [\n",
            "      {\n",
            "        \"value\": \"chinese\",\n",
            "        \"synonyms\": [\"Chinese\", \"Chines\", \"chines\"]\n",
            "      },\n",
            "      {\n",
            "        \"value\": \"vegetarian\",\n",
            "        \"synonyms\": [\"veggie\", \"vegg\"]\n",
            "      }\n",
            "    ],\n",
            "    \"task_3_output\": [\n",
            "\t {\n",
            "\t\t\"sentence\": \"My name is Sundar and I am calling from Microsoft.\",\n",
            "\t\t\"intent\": \"intro\",\n",
            "\t\t\"entities\": [\n",
            "\t {\n",
            "\t\t\"entity_name\": \"caller_name\",\n",
            "\t\t\"entity_value\": \"Sundar\"\n",
            "\t },\n",
            "\t {\n",
            "\t\t\"entity_name\": \"company\",\n",
            "\t\t\"entity_value\": \"Microsoft\"\n",
            "\t }\n",
            "\t]\n",
            "\t},\n",
            "\t {\n",
            "\t\t\"sentence\": \"This is a call about your Amazon Web Services account.\",\n",
            "\t\t\"intent\": \"purpose\",\n",
            "\t\t\"entities\": [\n",
            "\t {\n",
            "\t\t\"entity_name\": \"product\",\n",
            "\t\t\"entity_value\": \"Amazon Web Services\"\n",
            "\t }\n",
            "\t ]\n",
            "\t }\n",
            "\t ]\n",
            "\t}"
          ]
        }
      ]
    },
    {
      "cell_type": "code",
      "source": [
        "# Loading DataSet\n",
        "train_data = load_data('/content/demo-rasaa.json')"
      ],
      "metadata": {
        "colab": {
          "base_uri": "https://localhost:8080/",
          "height": 328
        },
        "id": "tRtRvBu3wkLf",
        "outputId": "0d55d325-9cad-4ae4-931c-ce58b3d9c2d0"
      },
      "execution_count": 32,
      "outputs": [
        {
          "output_type": "error",
          "ename": "ValueError",
          "evalue": "ignored",
          "traceback": [
            "\u001b[0;31m---------------------------------------------------------------------------\u001b[0m",
            "\u001b[0;31mValueError\u001b[0m                                Traceback (most recent call last)",
            "\u001b[0;32m<ipython-input-32-fc61803551b2>\u001b[0m in \u001b[0;36m<module>\u001b[0;34m()\u001b[0m\n\u001b[1;32m      1\u001b[0m \u001b[0;31m# Loading DataSet\u001b[0m\u001b[0;34m\u001b[0m\u001b[0;34m\u001b[0m\u001b[0;34m\u001b[0m\u001b[0m\n\u001b[0;32m----> 2\u001b[0;31m \u001b[0mtrain_data\u001b[0m \u001b[0;34m=\u001b[0m \u001b[0mload_data\u001b[0m\u001b[0;34m(\u001b[0m\u001b[0;34m'/content/demo-rasaa.json'\u001b[0m\u001b[0;34m)\u001b[0m\u001b[0;34m\u001b[0m\u001b[0;34m\u001b[0m\u001b[0m\n\u001b[0m",
            "\u001b[0;32m/usr/local/lib/python3.7/dist-packages/rasa_nlu/training_data/loading.py\u001b[0m in \u001b[0;36mload_data\u001b[0;34m(resource_name, language)\u001b[0m\n\u001b[1;32m     49\u001b[0m \u001b[0;34m\u001b[0m\u001b[0m\n\u001b[1;32m     50\u001b[0m     \u001b[0mfiles\u001b[0m \u001b[0;34m=\u001b[0m \u001b[0mutils\u001b[0m\u001b[0;34m.\u001b[0m\u001b[0mlist_files\u001b[0m\u001b[0;34m(\u001b[0m\u001b[0mresource_name\u001b[0m\u001b[0;34m)\u001b[0m\u001b[0;34m\u001b[0m\u001b[0;34m\u001b[0m\u001b[0m\n\u001b[0;32m---> 51\u001b[0;31m     \u001b[0mdata_sets\u001b[0m \u001b[0;34m=\u001b[0m \u001b[0;34m[\u001b[0m\u001b[0m_load\u001b[0m\u001b[0;34m(\u001b[0m\u001b[0mf\u001b[0m\u001b[0;34m,\u001b[0m \u001b[0mlanguage\u001b[0m\u001b[0;34m)\u001b[0m \u001b[0;32mfor\u001b[0m \u001b[0mf\u001b[0m \u001b[0;32min\u001b[0m \u001b[0mfiles\u001b[0m\u001b[0;34m]\u001b[0m\u001b[0;34m\u001b[0m\u001b[0;34m\u001b[0m\u001b[0m\n\u001b[0m\u001b[1;32m     52\u001b[0m     \u001b[0mdata_sets\u001b[0m \u001b[0;34m=\u001b[0m \u001b[0;34m[\u001b[0m\u001b[0mds\u001b[0m \u001b[0;32mfor\u001b[0m \u001b[0mds\u001b[0m \u001b[0;32min\u001b[0m \u001b[0mdata_sets\u001b[0m \u001b[0;32mif\u001b[0m \u001b[0mds\u001b[0m\u001b[0;34m]\u001b[0m\u001b[0;34m\u001b[0m\u001b[0;34m\u001b[0m\u001b[0m\n\u001b[1;32m     53\u001b[0m     \u001b[0;32mif\u001b[0m \u001b[0mlen\u001b[0m\u001b[0;34m(\u001b[0m\u001b[0mdata_sets\u001b[0m\u001b[0;34m)\u001b[0m \u001b[0;34m==\u001b[0m \u001b[0;36m0\u001b[0m\u001b[0;34m:\u001b[0m\u001b[0;34m\u001b[0m\u001b[0;34m\u001b[0m\u001b[0m\n",
            "\u001b[0;32m/usr/local/lib/python3.7/dist-packages/rasa_nlu/training_data/loading.py\u001b[0m in \u001b[0;36m<listcomp>\u001b[0;34m(.0)\u001b[0m\n\u001b[1;32m     49\u001b[0m \u001b[0;34m\u001b[0m\u001b[0m\n\u001b[1;32m     50\u001b[0m     \u001b[0mfiles\u001b[0m \u001b[0;34m=\u001b[0m \u001b[0mutils\u001b[0m\u001b[0;34m.\u001b[0m\u001b[0mlist_files\u001b[0m\u001b[0;34m(\u001b[0m\u001b[0mresource_name\u001b[0m\u001b[0;34m)\u001b[0m\u001b[0;34m\u001b[0m\u001b[0;34m\u001b[0m\u001b[0m\n\u001b[0;32m---> 51\u001b[0;31m     \u001b[0mdata_sets\u001b[0m \u001b[0;34m=\u001b[0m \u001b[0;34m[\u001b[0m\u001b[0m_load\u001b[0m\u001b[0;34m(\u001b[0m\u001b[0mf\u001b[0m\u001b[0;34m,\u001b[0m \u001b[0mlanguage\u001b[0m\u001b[0;34m)\u001b[0m \u001b[0;32mfor\u001b[0m \u001b[0mf\u001b[0m \u001b[0;32min\u001b[0m \u001b[0mfiles\u001b[0m\u001b[0;34m]\u001b[0m\u001b[0;34m\u001b[0m\u001b[0;34m\u001b[0m\u001b[0m\n\u001b[0m\u001b[1;32m     52\u001b[0m     \u001b[0mdata_sets\u001b[0m \u001b[0;34m=\u001b[0m \u001b[0;34m[\u001b[0m\u001b[0mds\u001b[0m \u001b[0;32mfor\u001b[0m \u001b[0mds\u001b[0m \u001b[0;32min\u001b[0m \u001b[0mdata_sets\u001b[0m \u001b[0;32mif\u001b[0m \u001b[0mds\u001b[0m\u001b[0;34m]\u001b[0m\u001b[0;34m\u001b[0m\u001b[0;34m\u001b[0m\u001b[0m\n\u001b[1;32m     53\u001b[0m     \u001b[0;32mif\u001b[0m \u001b[0mlen\u001b[0m\u001b[0;34m(\u001b[0m\u001b[0mdata_sets\u001b[0m\u001b[0;34m)\u001b[0m \u001b[0;34m==\u001b[0m \u001b[0;36m0\u001b[0m\u001b[0;34m:\u001b[0m\u001b[0;34m\u001b[0m\u001b[0;34m\u001b[0m\u001b[0m\n",
            "\u001b[0;32m/usr/local/lib/python3.7/dist-packages/rasa_nlu/training_data/loading.py\u001b[0m in \u001b[0;36m_load\u001b[0;34m(filename, language)\u001b[0m\n\u001b[1;32m    106\u001b[0m     \u001b[0mfformat\u001b[0m \u001b[0;34m=\u001b[0m \u001b[0m_guess_format\u001b[0m\u001b[0;34m(\u001b[0m\u001b[0mfilename\u001b[0m\u001b[0;34m)\u001b[0m\u001b[0;34m\u001b[0m\u001b[0;34m\u001b[0m\u001b[0m\n\u001b[1;32m    107\u001b[0m     \u001b[0;32mif\u001b[0m \u001b[0mfformat\u001b[0m \u001b[0;34m==\u001b[0m \u001b[0mUNK\u001b[0m\u001b[0;34m:\u001b[0m\u001b[0;34m\u001b[0m\u001b[0;34m\u001b[0m\u001b[0m\n\u001b[0;32m--> 108\u001b[0;31m         \u001b[0;32mraise\u001b[0m \u001b[0mValueError\u001b[0m\u001b[0;34m(\u001b[0m\u001b[0;34m\"Unknown data format for file {}\"\u001b[0m\u001b[0;34m.\u001b[0m\u001b[0mformat\u001b[0m\u001b[0;34m(\u001b[0m\u001b[0mfilename\u001b[0m\u001b[0;34m)\u001b[0m\u001b[0;34m)\u001b[0m\u001b[0;34m\u001b[0m\u001b[0;34m\u001b[0m\u001b[0m\n\u001b[0m\u001b[1;32m    109\u001b[0m \u001b[0;34m\u001b[0m\u001b[0m\n\u001b[1;32m    110\u001b[0m     \u001b[0mlogger\u001b[0m\u001b[0;34m.\u001b[0m\u001b[0minfo\u001b[0m\u001b[0;34m(\u001b[0m\u001b[0;34m\"Training data format of {} is {}\"\u001b[0m\u001b[0;34m.\u001b[0m\u001b[0mformat\u001b[0m\u001b[0;34m(\u001b[0m\u001b[0mfilename\u001b[0m\u001b[0;34m,\u001b[0m \u001b[0mfformat\u001b[0m\u001b[0;34m)\u001b[0m\u001b[0;34m)\u001b[0m\u001b[0;34m\u001b[0m\u001b[0;34m\u001b[0m\u001b[0m\n",
            "\u001b[0;31mValueError\u001b[0m: Unknown data format for file /content/demo-rasaa.json"
          ]
        }
      ]
    },
    {
      "cell_type": "markdown",
      "source": [
        "# New section"
      ],
      "metadata": {
        "id": "oj0ggYS2_zNc"
      }
    },
    {
      "cell_type": "code",
      "source": [
        ""
      ],
      "metadata": {
        "id": "HTLjK-RmxLmX"
      },
      "execution_count": null,
      "outputs": []
    }
  ]
}